{
  "nbformat": 4,
  "nbformat_minor": 0,
  "metadata": {
    "colab": {
      "provenance": []
    },
    "kernelspec": {
      "name": "python3",
      "display_name": "Python 3"
    },
    "language_info": {
      "name": "python"
    }
  },
  "cells": [
    {
      "cell_type": "code",
      "execution_count": null,
      "metadata": {
        "id": "WRNSMzQRRb_6"
      },
      "outputs": [],
      "source": [
        "from sklearn import datasets"
      ]
    },
    {
      "cell_type": "code",
      "source": [
        "housing = datasets.load_boston()"
      ],
      "metadata": {
        "colab": {
          "base_uri": "https://localhost:8080/",
          "height": 1000
        },
        "id": "XDXlf-rTRod2",
        "outputId": "29d5c402-c516-4e9c-92d4-fb55cfd4a938"
      },
      "execution_count": null,
      "outputs": [
        {
          "output_type": "error",
          "ename": "ImportError",
          "evalue": "\n`load_boston` has been removed from scikit-learn since version 1.2.\n\nThe Boston housing prices dataset has an ethical problem: as\ninvestigated in [1], the authors of this dataset engineered a\nnon-invertible variable \"B\" assuming that racial self-segregation had a\npositive impact on house prices [2]. Furthermore the goal of the\nresearch that led to the creation of this dataset was to study the\nimpact of air quality but it did not give adequate demonstration of the\nvalidity of this assumption.\n\nThe scikit-learn maintainers therefore strongly discourage the use of\nthis dataset unless the purpose of the code is to study and educate\nabout ethical issues in data science and machine learning.\n\nIn this special case, you can fetch the dataset from the original\nsource::\n\n    import pandas as pd\n    import numpy as np\n\n    data_url = \"http://lib.stat.cmu.edu/datasets/boston\"\n    raw_df = pd.read_csv(data_url, sep=\"\\s+\", skiprows=22, header=None)\n    data = np.hstack([raw_df.values[::2, :], raw_df.values[1::2, :2]])\n    target = raw_df.values[1::2, 2]\n\nAlternative datasets include the California housing dataset and the\nAmes housing dataset. You can load the datasets as follows::\n\n    from sklearn.datasets import fetch_california_housing\n    housing = fetch_california_housing()\n\nfor the California housing dataset and::\n\n    from sklearn.datasets import fetch_openml\n    housing = fetch_openml(name=\"house_prices\", as_frame=True)\n\nfor the Ames housing dataset.\n\n[1] M Carlisle.\n\"Racist data destruction?\"\n<https://medium.com/@docintangible/racist-data-destruction-113e3eff54a8>\n\n[2] Harrison Jr, David, and Daniel L. Rubinfeld.\n\"Hedonic housing prices and the demand for clean air.\"\nJournal of environmental economics and management 5.1 (1978): 81-102.\n<https://www.researchgate.net/publication/4974606_Hedonic_housing_prices_and_the_demand_for_clean_air>\n",
          "traceback": [
            "\u001b[0;31m---------------------------------------------------------------------------\u001b[0m",
            "\u001b[0;31mImportError\u001b[0m                               Traceback (most recent call last)",
            "\u001b[0;32m<ipython-input-2-72a7969702d7>\u001b[0m in \u001b[0;36m<cell line: 1>\u001b[0;34m()\u001b[0m\n\u001b[0;32m----> 1\u001b[0;31m \u001b[0mhousing\u001b[0m \u001b[0;34m=\u001b[0m \u001b[0mdatasets\u001b[0m\u001b[0;34m.\u001b[0m\u001b[0mload_boston\u001b[0m\u001b[0;34m(\u001b[0m\u001b[0;34m)\u001b[0m\u001b[0;34m\u001b[0m\u001b[0;34m\u001b[0m\u001b[0m\n\u001b[0m",
            "\u001b[0;32m/usr/local/lib/python3.10/dist-packages/sklearn/datasets/__init__.py\u001b[0m in \u001b[0;36m__getattr__\u001b[0;34m(name)\u001b[0m\n\u001b[1;32m    154\u001b[0m             \"\"\"\n\u001b[1;32m    155\u001b[0m         )\n\u001b[0;32m--> 156\u001b[0;31m         \u001b[0;32mraise\u001b[0m \u001b[0mImportError\u001b[0m\u001b[0;34m(\u001b[0m\u001b[0mmsg\u001b[0m\u001b[0;34m)\u001b[0m\u001b[0;34m\u001b[0m\u001b[0;34m\u001b[0m\u001b[0m\n\u001b[0m\u001b[1;32m    157\u001b[0m     \u001b[0;32mtry\u001b[0m\u001b[0;34m:\u001b[0m\u001b[0;34m\u001b[0m\u001b[0;34m\u001b[0m\u001b[0m\n\u001b[1;32m    158\u001b[0m         \u001b[0;32mreturn\u001b[0m \u001b[0mglobals\u001b[0m\u001b[0;34m(\u001b[0m\u001b[0;34m)\u001b[0m\u001b[0;34m[\u001b[0m\u001b[0mname\u001b[0m\u001b[0;34m]\u001b[0m\u001b[0;34m\u001b[0m\u001b[0;34m\u001b[0m\u001b[0m\n",
            "\u001b[0;31mImportError\u001b[0m: \n`load_boston` has been removed from scikit-learn since version 1.2.\n\nThe Boston housing prices dataset has an ethical problem: as\ninvestigated in [1], the authors of this dataset engineered a\nnon-invertible variable \"B\" assuming that racial self-segregation had a\npositive impact on house prices [2]. Furthermore the goal of the\nresearch that led to the creation of this dataset was to study the\nimpact of air quality but it did not give adequate demonstration of the\nvalidity of this assumption.\n\nThe scikit-learn maintainers therefore strongly discourage the use of\nthis dataset unless the purpose of the code is to study and educate\nabout ethical issues in data science and machine learning.\n\nIn this special case, you can fetch the dataset from the original\nsource::\n\n    import pandas as pd\n    import numpy as np\n\n    data_url = \"http://lib.stat.cmu.edu/datasets/boston\"\n    raw_df = pd.read_csv(data_url, sep=\"\\s+\", skiprows=22, header=None)\n    data = np.hstack([raw_df.values[::2, :], raw_df.values[1::2, :2]])\n    target = raw_df.values[1::2, 2]\n\nAlternative datasets include the California housing dataset and the\nAmes housing dataset. You can load the datasets as follows::\n\n    from sklearn.datasets import fetch_california_housing\n    housing = fetch_california_housing()\n\nfor the California housing dataset and::\n\n    from sklearn.datasets import fetch_openml\n    housing = fetch_openml(name=\"house_prices\", as_frame=True)\n\nfor the Ames housing dataset.\n\n[1] M Carlisle.\n\"Racist data destruction?\"\n<https://medium.com/@docintangible/racist-data-destruction-113e3eff54a8>\n\n[2] Harrison Jr, David, and Daniel L. Rubinfeld.\n\"Hedonic housing prices and the demand for clean air.\"\nJournal of environmental economics and management 5.1 (1978): 81-102.\n<https://www.researchgate.net/publication/4974606_Hedonic_housing_prices_and_the_demand_for_clean_air>\n",
            "",
            "\u001b[0;31m---------------------------------------------------------------------------\u001b[0;32m\nNOTE: If your import is failing due to a missing package, you can\nmanually install dependencies using either !pip or !apt.\n\nTo view examples of installing some common dependencies, click the\n\"Open Examples\" button below.\n\u001b[0;31m---------------------------------------------------------------------------\u001b[0m\n"
          ],
          "errorDetails": {
            "actions": [
              {
                "action": "open_url",
                "actionText": "Open Examples",
                "url": "/notebooks/snippets/importing_libraries.ipynb"
              }
            ]
          }
        }
      ]
    },
    {
      "cell_type": "code",
      "source": [
        "import pandas as pd\n",
        "import numpy as np\n",
        "\n",
        "data_url = \"http://lib.stat.cmu.edu/datasets/boston\"\n",
        "raw_df = pd.read_csv(data_url, sep=\"\\s+\", skiprows=22, header=None)\n"
      ],
      "metadata": {
        "id": "moNB-CeGRt5H"
      },
      "execution_count": null,
      "outputs": []
    },
    {
      "cell_type": "code",
      "source": [
        "raw_df"
      ],
      "metadata": {
        "colab": {
          "base_uri": "https://localhost:8080/",
          "height": 424
        },
        "id": "6gz5e1ezSAU8",
        "outputId": "6516a039-5b30-4c51-ead6-7935d0aaac44"
      },
      "execution_count": null,
      "outputs": [
        {
          "output_type": "execute_result",
          "data": {
            "text/plain": [
              "             0      1      2    3      4      5     6       7    8      9   \\\n",
              "0       0.00632  18.00   2.31  0.0  0.538  6.575  65.2  4.0900  1.0  296.0   \n",
              "1     396.90000   4.98  24.00  NaN    NaN    NaN   NaN     NaN  NaN    NaN   \n",
              "2       0.02731   0.00   7.07  0.0  0.469  6.421  78.9  4.9671  2.0  242.0   \n",
              "3     396.90000   9.14  21.60  NaN    NaN    NaN   NaN     NaN  NaN    NaN   \n",
              "4       0.02729   0.00   7.07  0.0  0.469  7.185  61.1  4.9671  2.0  242.0   \n",
              "...         ...    ...    ...  ...    ...    ...   ...     ...  ...    ...   \n",
              "1007  396.90000   5.64  23.90  NaN    NaN    NaN   NaN     NaN  NaN    NaN   \n",
              "1008    0.10959   0.00  11.93  0.0  0.573  6.794  89.3  2.3889  1.0  273.0   \n",
              "1009  393.45000   6.48  22.00  NaN    NaN    NaN   NaN     NaN  NaN    NaN   \n",
              "1010    0.04741   0.00  11.93  0.0  0.573  6.030  80.8  2.5050  1.0  273.0   \n",
              "1011  396.90000   7.88  11.90  NaN    NaN    NaN   NaN     NaN  NaN    NaN   \n",
              "\n",
              "        10  \n",
              "0     15.3  \n",
              "1      NaN  \n",
              "2     17.8  \n",
              "3      NaN  \n",
              "4     17.8  \n",
              "...    ...  \n",
              "1007   NaN  \n",
              "1008  21.0  \n",
              "1009   NaN  \n",
              "1010  21.0  \n",
              "1011   NaN  \n",
              "\n",
              "[1012 rows x 11 columns]"
            ],
            "text/html": [
              "\n",
              "  <div id=\"df-837c6175-7892-4224-9a3b-946efb14aa13\" class=\"colab-df-container\">\n",
              "    <div>\n",
              "<style scoped>\n",
              "    .dataframe tbody tr th:only-of-type {\n",
              "        vertical-align: middle;\n",
              "    }\n",
              "\n",
              "    .dataframe tbody tr th {\n",
              "        vertical-align: top;\n",
              "    }\n",
              "\n",
              "    .dataframe thead th {\n",
              "        text-align: right;\n",
              "    }\n",
              "</style>\n",
              "<table border=\"1\" class=\"dataframe\">\n",
              "  <thead>\n",
              "    <tr style=\"text-align: right;\">\n",
              "      <th></th>\n",
              "      <th>0</th>\n",
              "      <th>1</th>\n",
              "      <th>2</th>\n",
              "      <th>3</th>\n",
              "      <th>4</th>\n",
              "      <th>5</th>\n",
              "      <th>6</th>\n",
              "      <th>7</th>\n",
              "      <th>8</th>\n",
              "      <th>9</th>\n",
              "      <th>10</th>\n",
              "    </tr>\n",
              "  </thead>\n",
              "  <tbody>\n",
              "    <tr>\n",
              "      <th>0</th>\n",
              "      <td>0.00632</td>\n",
              "      <td>18.00</td>\n",
              "      <td>2.31</td>\n",
              "      <td>0.0</td>\n",
              "      <td>0.538</td>\n",
              "      <td>6.575</td>\n",
              "      <td>65.2</td>\n",
              "      <td>4.0900</td>\n",
              "      <td>1.0</td>\n",
              "      <td>296.0</td>\n",
              "      <td>15.3</td>\n",
              "    </tr>\n",
              "    <tr>\n",
              "      <th>1</th>\n",
              "      <td>396.90000</td>\n",
              "      <td>4.98</td>\n",
              "      <td>24.00</td>\n",
              "      <td>NaN</td>\n",
              "      <td>NaN</td>\n",
              "      <td>NaN</td>\n",
              "      <td>NaN</td>\n",
              "      <td>NaN</td>\n",
              "      <td>NaN</td>\n",
              "      <td>NaN</td>\n",
              "      <td>NaN</td>\n",
              "    </tr>\n",
              "    <tr>\n",
              "      <th>2</th>\n",
              "      <td>0.02731</td>\n",
              "      <td>0.00</td>\n",
              "      <td>7.07</td>\n",
              "      <td>0.0</td>\n",
              "      <td>0.469</td>\n",
              "      <td>6.421</td>\n",
              "      <td>78.9</td>\n",
              "      <td>4.9671</td>\n",
              "      <td>2.0</td>\n",
              "      <td>242.0</td>\n",
              "      <td>17.8</td>\n",
              "    </tr>\n",
              "    <tr>\n",
              "      <th>3</th>\n",
              "      <td>396.90000</td>\n",
              "      <td>9.14</td>\n",
              "      <td>21.60</td>\n",
              "      <td>NaN</td>\n",
              "      <td>NaN</td>\n",
              "      <td>NaN</td>\n",
              "      <td>NaN</td>\n",
              "      <td>NaN</td>\n",
              "      <td>NaN</td>\n",
              "      <td>NaN</td>\n",
              "      <td>NaN</td>\n",
              "    </tr>\n",
              "    <tr>\n",
              "      <th>4</th>\n",
              "      <td>0.02729</td>\n",
              "      <td>0.00</td>\n",
              "      <td>7.07</td>\n",
              "      <td>0.0</td>\n",
              "      <td>0.469</td>\n",
              "      <td>7.185</td>\n",
              "      <td>61.1</td>\n",
              "      <td>4.9671</td>\n",
              "      <td>2.0</td>\n",
              "      <td>242.0</td>\n",
              "      <td>17.8</td>\n",
              "    </tr>\n",
              "    <tr>\n",
              "      <th>...</th>\n",
              "      <td>...</td>\n",
              "      <td>...</td>\n",
              "      <td>...</td>\n",
              "      <td>...</td>\n",
              "      <td>...</td>\n",
              "      <td>...</td>\n",
              "      <td>...</td>\n",
              "      <td>...</td>\n",
              "      <td>...</td>\n",
              "      <td>...</td>\n",
              "      <td>...</td>\n",
              "    </tr>\n",
              "    <tr>\n",
              "      <th>1007</th>\n",
              "      <td>396.90000</td>\n",
              "      <td>5.64</td>\n",
              "      <td>23.90</td>\n",
              "      <td>NaN</td>\n",
              "      <td>NaN</td>\n",
              "      <td>NaN</td>\n",
              "      <td>NaN</td>\n",
              "      <td>NaN</td>\n",
              "      <td>NaN</td>\n",
              "      <td>NaN</td>\n",
              "      <td>NaN</td>\n",
              "    </tr>\n",
              "    <tr>\n",
              "      <th>1008</th>\n",
              "      <td>0.10959</td>\n",
              "      <td>0.00</td>\n",
              "      <td>11.93</td>\n",
              "      <td>0.0</td>\n",
              "      <td>0.573</td>\n",
              "      <td>6.794</td>\n",
              "      <td>89.3</td>\n",
              "      <td>2.3889</td>\n",
              "      <td>1.0</td>\n",
              "      <td>273.0</td>\n",
              "      <td>21.0</td>\n",
              "    </tr>\n",
              "    <tr>\n",
              "      <th>1009</th>\n",
              "      <td>393.45000</td>\n",
              "      <td>6.48</td>\n",
              "      <td>22.00</td>\n",
              "      <td>NaN</td>\n",
              "      <td>NaN</td>\n",
              "      <td>NaN</td>\n",
              "      <td>NaN</td>\n",
              "      <td>NaN</td>\n",
              "      <td>NaN</td>\n",
              "      <td>NaN</td>\n",
              "      <td>NaN</td>\n",
              "    </tr>\n",
              "    <tr>\n",
              "      <th>1010</th>\n",
              "      <td>0.04741</td>\n",
              "      <td>0.00</td>\n",
              "      <td>11.93</td>\n",
              "      <td>0.0</td>\n",
              "      <td>0.573</td>\n",
              "      <td>6.030</td>\n",
              "      <td>80.8</td>\n",
              "      <td>2.5050</td>\n",
              "      <td>1.0</td>\n",
              "      <td>273.0</td>\n",
              "      <td>21.0</td>\n",
              "    </tr>\n",
              "    <tr>\n",
              "      <th>1011</th>\n",
              "      <td>396.90000</td>\n",
              "      <td>7.88</td>\n",
              "      <td>11.90</td>\n",
              "      <td>NaN</td>\n",
              "      <td>NaN</td>\n",
              "      <td>NaN</td>\n",
              "      <td>NaN</td>\n",
              "      <td>NaN</td>\n",
              "      <td>NaN</td>\n",
              "      <td>NaN</td>\n",
              "      <td>NaN</td>\n",
              "    </tr>\n",
              "  </tbody>\n",
              "</table>\n",
              "<p>1012 rows × 11 columns</p>\n",
              "</div>\n",
              "    <div class=\"colab-df-buttons\">\n",
              "\n",
              "  <div class=\"colab-df-container\">\n",
              "    <button class=\"colab-df-convert\" onclick=\"convertToInteractive('df-837c6175-7892-4224-9a3b-946efb14aa13')\"\n",
              "            title=\"Convert this dataframe to an interactive table.\"\n",
              "            style=\"display:none;\">\n",
              "\n",
              "  <svg xmlns=\"http://www.w3.org/2000/svg\" height=\"24px\" viewBox=\"0 -960 960 960\">\n",
              "    <path d=\"M120-120v-720h720v720H120Zm60-500h600v-160H180v160Zm220 220h160v-160H400v160Zm0 220h160v-160H400v160ZM180-400h160v-160H180v160Zm440 0h160v-160H620v160ZM180-180h160v-160H180v160Zm440 0h160v-160H620v160Z\"/>\n",
              "  </svg>\n",
              "    </button>\n",
              "\n",
              "  <style>\n",
              "    .colab-df-container {\n",
              "      display:flex;\n",
              "      gap: 12px;\n",
              "    }\n",
              "\n",
              "    .colab-df-convert {\n",
              "      background-color: #E8F0FE;\n",
              "      border: none;\n",
              "      border-radius: 50%;\n",
              "      cursor: pointer;\n",
              "      display: none;\n",
              "      fill: #1967D2;\n",
              "      height: 32px;\n",
              "      padding: 0 0 0 0;\n",
              "      width: 32px;\n",
              "    }\n",
              "\n",
              "    .colab-df-convert:hover {\n",
              "      background-color: #E2EBFA;\n",
              "      box-shadow: 0px 1px 2px rgba(60, 64, 67, 0.3), 0px 1px 3px 1px rgba(60, 64, 67, 0.15);\n",
              "      fill: #174EA6;\n",
              "    }\n",
              "\n",
              "    .colab-df-buttons div {\n",
              "      margin-bottom: 4px;\n",
              "    }\n",
              "\n",
              "    [theme=dark] .colab-df-convert {\n",
              "      background-color: #3B4455;\n",
              "      fill: #D2E3FC;\n",
              "    }\n",
              "\n",
              "    [theme=dark] .colab-df-convert:hover {\n",
              "      background-color: #434B5C;\n",
              "      box-shadow: 0px 1px 3px 1px rgba(0, 0, 0, 0.15);\n",
              "      filter: drop-shadow(0px 1px 2px rgba(0, 0, 0, 0.3));\n",
              "      fill: #FFFFFF;\n",
              "    }\n",
              "  </style>\n",
              "\n",
              "    <script>\n",
              "      const buttonEl =\n",
              "        document.querySelector('#df-837c6175-7892-4224-9a3b-946efb14aa13 button.colab-df-convert');\n",
              "      buttonEl.style.display =\n",
              "        google.colab.kernel.accessAllowed ? 'block' : 'none';\n",
              "\n",
              "      async function convertToInteractive(key) {\n",
              "        const element = document.querySelector('#df-837c6175-7892-4224-9a3b-946efb14aa13');\n",
              "        const dataTable =\n",
              "          await google.colab.kernel.invokeFunction('convertToInteractive',\n",
              "                                                    [key], {});\n",
              "        if (!dataTable) return;\n",
              "\n",
              "        const docLinkHtml = 'Like what you see? Visit the ' +\n",
              "          '<a target=\"_blank\" href=https://colab.research.google.com/notebooks/data_table.ipynb>data table notebook</a>'\n",
              "          + ' to learn more about interactive tables.';\n",
              "        element.innerHTML = '';\n",
              "        dataTable['output_type'] = 'display_data';\n",
              "        await google.colab.output.renderOutput(dataTable, element);\n",
              "        const docLink = document.createElement('div');\n",
              "        docLink.innerHTML = docLinkHtml;\n",
              "        element.appendChild(docLink);\n",
              "      }\n",
              "    </script>\n",
              "  </div>\n",
              "\n",
              "\n",
              "<div id=\"df-40b9be05-ce6b-4c59-a8c9-2919b07eb81b\">\n",
              "  <button class=\"colab-df-quickchart\" onclick=\"quickchart('df-40b9be05-ce6b-4c59-a8c9-2919b07eb81b')\"\n",
              "            title=\"Suggest charts\"\n",
              "            style=\"display:none;\">\n",
              "\n",
              "<svg xmlns=\"http://www.w3.org/2000/svg\" height=\"24px\"viewBox=\"0 0 24 24\"\n",
              "     width=\"24px\">\n",
              "    <g>\n",
              "        <path d=\"M19 3H5c-1.1 0-2 .9-2 2v14c0 1.1.9 2 2 2h14c1.1 0 2-.9 2-2V5c0-1.1-.9-2-2-2zM9 17H7v-7h2v7zm4 0h-2V7h2v10zm4 0h-2v-4h2v4z\"/>\n",
              "    </g>\n",
              "</svg>\n",
              "  </button>\n",
              "\n",
              "<style>\n",
              "  .colab-df-quickchart {\n",
              "      --bg-color: #E8F0FE;\n",
              "      --fill-color: #1967D2;\n",
              "      --hover-bg-color: #E2EBFA;\n",
              "      --hover-fill-color: #174EA6;\n",
              "      --disabled-fill-color: #AAA;\n",
              "      --disabled-bg-color: #DDD;\n",
              "  }\n",
              "\n",
              "  [theme=dark] .colab-df-quickchart {\n",
              "      --bg-color: #3B4455;\n",
              "      --fill-color: #D2E3FC;\n",
              "      --hover-bg-color: #434B5C;\n",
              "      --hover-fill-color: #FFFFFF;\n",
              "      --disabled-bg-color: #3B4455;\n",
              "      --disabled-fill-color: #666;\n",
              "  }\n",
              "\n",
              "  .colab-df-quickchart {\n",
              "    background-color: var(--bg-color);\n",
              "    border: none;\n",
              "    border-radius: 50%;\n",
              "    cursor: pointer;\n",
              "    display: none;\n",
              "    fill: var(--fill-color);\n",
              "    height: 32px;\n",
              "    padding: 0;\n",
              "    width: 32px;\n",
              "  }\n",
              "\n",
              "  .colab-df-quickchart:hover {\n",
              "    background-color: var(--hover-bg-color);\n",
              "    box-shadow: 0 1px 2px rgba(60, 64, 67, 0.3), 0 1px 3px 1px rgba(60, 64, 67, 0.15);\n",
              "    fill: var(--button-hover-fill-color);\n",
              "  }\n",
              "\n",
              "  .colab-df-quickchart-complete:disabled,\n",
              "  .colab-df-quickchart-complete:disabled:hover {\n",
              "    background-color: var(--disabled-bg-color);\n",
              "    fill: var(--disabled-fill-color);\n",
              "    box-shadow: none;\n",
              "  }\n",
              "\n",
              "  .colab-df-spinner {\n",
              "    border: 2px solid var(--fill-color);\n",
              "    border-color: transparent;\n",
              "    border-bottom-color: var(--fill-color);\n",
              "    animation:\n",
              "      spin 1s steps(1) infinite;\n",
              "  }\n",
              "\n",
              "  @keyframes spin {\n",
              "    0% {\n",
              "      border-color: transparent;\n",
              "      border-bottom-color: var(--fill-color);\n",
              "      border-left-color: var(--fill-color);\n",
              "    }\n",
              "    20% {\n",
              "      border-color: transparent;\n",
              "      border-left-color: var(--fill-color);\n",
              "      border-top-color: var(--fill-color);\n",
              "    }\n",
              "    30% {\n",
              "      border-color: transparent;\n",
              "      border-left-color: var(--fill-color);\n",
              "      border-top-color: var(--fill-color);\n",
              "      border-right-color: var(--fill-color);\n",
              "    }\n",
              "    40% {\n",
              "      border-color: transparent;\n",
              "      border-right-color: var(--fill-color);\n",
              "      border-top-color: var(--fill-color);\n",
              "    }\n",
              "    60% {\n",
              "      border-color: transparent;\n",
              "      border-right-color: var(--fill-color);\n",
              "    }\n",
              "    80% {\n",
              "      border-color: transparent;\n",
              "      border-right-color: var(--fill-color);\n",
              "      border-bottom-color: var(--fill-color);\n",
              "    }\n",
              "    90% {\n",
              "      border-color: transparent;\n",
              "      border-bottom-color: var(--fill-color);\n",
              "    }\n",
              "  }\n",
              "</style>\n",
              "\n",
              "  <script>\n",
              "    async function quickchart(key) {\n",
              "      const quickchartButtonEl =\n",
              "        document.querySelector('#' + key + ' button');\n",
              "      quickchartButtonEl.disabled = true;  // To prevent multiple clicks.\n",
              "      quickchartButtonEl.classList.add('colab-df-spinner');\n",
              "      try {\n",
              "        const charts = await google.colab.kernel.invokeFunction(\n",
              "            'suggestCharts', [key], {});\n",
              "      } catch (error) {\n",
              "        console.error('Error during call to suggestCharts:', error);\n",
              "      }\n",
              "      quickchartButtonEl.classList.remove('colab-df-spinner');\n",
              "      quickchartButtonEl.classList.add('colab-df-quickchart-complete');\n",
              "    }\n",
              "    (() => {\n",
              "      let quickchartButtonEl =\n",
              "        document.querySelector('#df-40b9be05-ce6b-4c59-a8c9-2919b07eb81b button');\n",
              "      quickchartButtonEl.style.display =\n",
              "        google.colab.kernel.accessAllowed ? 'block' : 'none';\n",
              "    })();\n",
              "  </script>\n",
              "</div>\n",
              "\n",
              "  <div id=\"id_3c8d36f8-40bd-4eb4-a2d0-483b386794b6\">\n",
              "    <style>\n",
              "      .colab-df-generate {\n",
              "        background-color: #E8F0FE;\n",
              "        border: none;\n",
              "        border-radius: 50%;\n",
              "        cursor: pointer;\n",
              "        display: none;\n",
              "        fill: #1967D2;\n",
              "        height: 32px;\n",
              "        padding: 0 0 0 0;\n",
              "        width: 32px;\n",
              "      }\n",
              "\n",
              "      .colab-df-generate:hover {\n",
              "        background-color: #E2EBFA;\n",
              "        box-shadow: 0px 1px 2px rgba(60, 64, 67, 0.3), 0px 1px 3px 1px rgba(60, 64, 67, 0.15);\n",
              "        fill: #174EA6;\n",
              "      }\n",
              "\n",
              "      [theme=dark] .colab-df-generate {\n",
              "        background-color: #3B4455;\n",
              "        fill: #D2E3FC;\n",
              "      }\n",
              "\n",
              "      [theme=dark] .colab-df-generate:hover {\n",
              "        background-color: #434B5C;\n",
              "        box-shadow: 0px 1px 3px 1px rgba(0, 0, 0, 0.15);\n",
              "        filter: drop-shadow(0px 1px 2px rgba(0, 0, 0, 0.3));\n",
              "        fill: #FFFFFF;\n",
              "      }\n",
              "    </style>\n",
              "    <button class=\"colab-df-generate\" onclick=\"generateWithVariable('raw_df')\"\n",
              "            title=\"Generate code using this dataframe.\"\n",
              "            style=\"display:none;\">\n",
              "\n",
              "  <svg xmlns=\"http://www.w3.org/2000/svg\" height=\"24px\"viewBox=\"0 0 24 24\"\n",
              "       width=\"24px\">\n",
              "    <path d=\"M7,19H8.4L18.45,9,17,7.55,7,17.6ZM5,21V16.75L18.45,3.32a2,2,0,0,1,2.83,0l1.4,1.43a1.91,1.91,0,0,1,.58,1.4,1.91,1.91,0,0,1-.58,1.4L9.25,21ZM18.45,9,17,7.55Zm-12,3A5.31,5.31,0,0,0,4.9,8.1,5.31,5.31,0,0,0,1,6.5,5.31,5.31,0,0,0,4.9,4.9,5.31,5.31,0,0,0,6.5,1,5.31,5.31,0,0,0,8.1,4.9,5.31,5.31,0,0,0,12,6.5,5.46,5.46,0,0,0,6.5,12Z\"/>\n",
              "  </svg>\n",
              "    </button>\n",
              "    <script>\n",
              "      (() => {\n",
              "      const buttonEl =\n",
              "        document.querySelector('#id_3c8d36f8-40bd-4eb4-a2d0-483b386794b6 button.colab-df-generate');\n",
              "      buttonEl.style.display =\n",
              "        google.colab.kernel.accessAllowed ? 'block' : 'none';\n",
              "\n",
              "      buttonEl.onclick = () => {\n",
              "        google.colab.notebook.generateWithVariable('raw_df');\n",
              "      }\n",
              "      })();\n",
              "    </script>\n",
              "  </div>\n",
              "\n",
              "    </div>\n",
              "  </div>\n"
            ],
            "application/vnd.google.colaboratory.intrinsic+json": {
              "type": "dataframe",
              "variable_name": "raw_df",
              "summary": "{\n  \"name\": \"raw_df\",\n  \"rows\": 1012,\n  \"fields\": [\n    {\n      \"column\": 0,\n      \"properties\": {\n        \"dtype\": \"number\",\n        \"std\": 188.13283937823942,\n        \"min\": 0.00632,\n        \"max\": 396.9,\n        \"num_unique_values\": 861,\n        \"samples\": [\n          7.02259,\n          0.10659,\n          376.94\n        ],\n        \"semantic_type\": \"\",\n        \"description\": \"\"\n      }\n    },\n    {\n      \"column\": 1,\n      \"properties\": {\n        \"dtype\": \"number\",\n        \"std\": 17.250728213077664,\n        \"min\": 0.0,\n        \"max\": 100.0,\n        \"num_unique_values\": 480,\n        \"samples\": [\n          17.5,\n          17.64,\n          12.13\n        ],\n        \"semantic_type\": \"\",\n        \"description\": \"\"\n      }\n    },\n    {\n      \"column\": 2,\n      \"properties\": {\n        \"dtype\": \"number\",\n        \"std\": 9.912615669583948,\n        \"min\": 0.46,\n        \"max\": 50.0,\n        \"num_unique_values\": 304,\n        \"samples\": [\n          30.1,\n          29.8,\n          17.3\n        ],\n        \"semantic_type\": \"\",\n        \"description\": \"\"\n      }\n    },\n    {\n      \"column\": 3,\n      \"properties\": {\n        \"dtype\": \"number\",\n        \"std\": 0.25399404134041037,\n        \"min\": 0.0,\n        \"max\": 1.0,\n        \"num_unique_values\": 2,\n        \"samples\": [\n          1.0,\n          0.0\n        ],\n        \"semantic_type\": \"\",\n        \"description\": \"\"\n      }\n    },\n    {\n      \"column\": 4,\n      \"properties\": {\n        \"dtype\": \"number\",\n        \"std\": 0.11587767566755595,\n        \"min\": 0.385,\n        \"max\": 0.871,\n        \"num_unique_values\": 81,\n        \"samples\": [\n          0.401,\n          0.538\n        ],\n        \"semantic_type\": \"\",\n        \"description\": \"\"\n      }\n    },\n    {\n      \"column\": 5,\n      \"properties\": {\n        \"dtype\": \"number\",\n        \"std\": 0.7026171434153233,\n        \"min\": 3.561,\n        \"max\": 8.78,\n        \"num_unique_values\": 446,\n        \"samples\": [\n          6.849,\n          4.88\n        ],\n        \"semantic_type\": \"\",\n        \"description\": \"\"\n      }\n    },\n    {\n      \"column\": 6,\n      \"properties\": {\n        \"dtype\": \"number\",\n        \"std\": 28.148861406903617,\n        \"min\": 2.9,\n        \"max\": 100.0,\n        \"num_unique_values\": 356,\n        \"samples\": [\n          51.8,\n          33.8\n        ],\n        \"semantic_type\": \"\",\n        \"description\": \"\"\n      }\n    },\n    {\n      \"column\": 7,\n      \"properties\": {\n        \"dtype\": \"number\",\n        \"std\": 2.105710126627611,\n        \"min\": 1.1296,\n        \"max\": 12.1265,\n        \"num_unique_values\": 412,\n        \"samples\": [\n          2.2955,\n          4.2515\n        ],\n        \"semantic_type\": \"\",\n        \"description\": \"\"\n      }\n    },\n    {\n      \"column\": 8,\n      \"properties\": {\n        \"dtype\": \"number\",\n        \"std\": 8.707259384239366,\n        \"min\": 1.0,\n        \"max\": 24.0,\n        \"num_unique_values\": 9,\n        \"samples\": [\n          7.0,\n          2.0\n        ],\n        \"semantic_type\": \"\",\n        \"description\": \"\"\n      }\n    },\n    {\n      \"column\": 9,\n      \"properties\": {\n        \"dtype\": \"number\",\n        \"std\": 168.53711605495903,\n        \"min\": 187.0,\n        \"max\": 711.0,\n        \"num_unique_values\": 66,\n        \"samples\": [\n          370.0,\n          666.0\n        ],\n        \"semantic_type\": \"\",\n        \"description\": \"\"\n      }\n    },\n    {\n      \"column\": 10,\n      \"properties\": {\n        \"dtype\": \"number\",\n        \"std\": 2.1649455237144406,\n        \"min\": 12.6,\n        \"max\": 22.0,\n        \"num_unique_values\": 46,\n        \"samples\": [\n          19.6,\n          15.6\n        ],\n        \"semantic_type\": \"\",\n        \"description\": \"\"\n      }\n    }\n  ]\n}"
            }
          },
          "metadata": {},
          "execution_count": 4
        }
      ]
    },
    {
      "cell_type": "code",
      "source": [
        "data = np.hstack([raw_df.values[::2, :], raw_df.values[1::2, :2]])\n",
        "target = raw_df.values[1::2, 2]"
      ],
      "metadata": {
        "id": "d-nMrtFYSDwj"
      },
      "execution_count": null,
      "outputs": []
    },
    {
      "cell_type": "code",
      "source": [
        "data"
      ],
      "metadata": {
        "colab": {
          "base_uri": "https://localhost:8080/"
        },
        "id": "ZyxruBKgScBm",
        "outputId": "6f6b73bc-c504-46c2-8488-fa6ec4beca37"
      },
      "execution_count": null,
      "outputs": [
        {
          "output_type": "execute_result",
          "data": {
            "text/plain": [
              "array([[6.3200e-03, 1.8000e+01, 2.3100e+00, ..., 1.5300e+01, 3.9690e+02,\n",
              "        4.9800e+00],\n",
              "       [2.7310e-02, 0.0000e+00, 7.0700e+00, ..., 1.7800e+01, 3.9690e+02,\n",
              "        9.1400e+00],\n",
              "       [2.7290e-02, 0.0000e+00, 7.0700e+00, ..., 1.7800e+01, 3.9283e+02,\n",
              "        4.0300e+00],\n",
              "       ...,\n",
              "       [6.0760e-02, 0.0000e+00, 1.1930e+01, ..., 2.1000e+01, 3.9690e+02,\n",
              "        5.6400e+00],\n",
              "       [1.0959e-01, 0.0000e+00, 1.1930e+01, ..., 2.1000e+01, 3.9345e+02,\n",
              "        6.4800e+00],\n",
              "       [4.7410e-02, 0.0000e+00, 1.1930e+01, ..., 2.1000e+01, 3.9690e+02,\n",
              "        7.8800e+00]])"
            ]
          },
          "metadata": {},
          "execution_count": 6
        }
      ]
    },
    {
      "cell_type": "code",
      "source": [
        "data.shape"
      ],
      "metadata": {
        "colab": {
          "base_uri": "https://localhost:8080/"
        },
        "id": "sZjiq3RcSqaY",
        "outputId": "2bcb2359-7ad3-4c34-8f98-d88ad3b15022"
      },
      "execution_count": null,
      "outputs": [
        {
          "output_type": "execute_result",
          "data": {
            "text/plain": [
              "(506, 13)"
            ]
          },
          "metadata": {},
          "execution_count": 7
        }
      ]
    },
    {
      "cell_type": "code",
      "source": [
        "target.shape"
      ],
      "metadata": {
        "colab": {
          "base_uri": "https://localhost:8080/"
        },
        "id": "WMIeeuCYSxBZ",
        "outputId": "0b46054d-cc80-4fe6-e50a-ae01473ce779"
      },
      "execution_count": null,
      "outputs": [
        {
          "output_type": "execute_result",
          "data": {
            "text/plain": [
              "(506,)"
            ]
          },
          "metadata": {},
          "execution_count": 9
        }
      ]
    },
    {
      "cell_type": "code",
      "source": [
        "X_data = data\n",
        "y_data = target"
      ],
      "metadata": {
        "id": "MEPSYVthS3Cr"
      },
      "execution_count": null,
      "outputs": []
    },
    {
      "cell_type": "code",
      "source": [
        "X_data[0]"
      ],
      "metadata": {
        "colab": {
          "base_uri": "https://localhost:8080/"
        },
        "id": "6_wYwDhwUXwX",
        "outputId": "8f624e68-e51c-4a51-ea5e-40794974d68b"
      },
      "execution_count": null,
      "outputs": [
        {
          "output_type": "execute_result",
          "data": {
            "text/plain": [
              "array([6.320e-03, 1.800e+01, 2.310e+00, 0.000e+00, 5.380e-01, 6.575e+00,\n",
              "       6.520e+01, 4.090e+00, 1.000e+00, 2.960e+02, 1.530e+01, 3.969e+02,\n",
              "       4.980e+00])"
            ]
          },
          "metadata": {},
          "execution_count": 11
        }
      ]
    },
    {
      "cell_type": "code",
      "source": [
        "from sklearn.preprocessing import MinMaxScaler"
      ],
      "metadata": {
        "id": "rMZMCcv0UdjY"
      },
      "execution_count": null,
      "outputs": []
    },
    {
      "cell_type": "code",
      "source": [
        "scaler = MinMaxScaler()\n",
        "X_data_scaled = scaler.fit_transform(X_data)"
      ],
      "metadata": {
        "id": "3CM0j476UrH5"
      },
      "execution_count": null,
      "outputs": []
    },
    {
      "cell_type": "code",
      "source": [
        "X_data_scaled[0]"
      ],
      "metadata": {
        "colab": {
          "base_uri": "https://localhost:8080/"
        },
        "id": "klcX0MVCUvJp",
        "outputId": "cbf0f7a9-bca2-40ef-ed96-a8c6ab151d7e"
      },
      "execution_count": null,
      "outputs": [
        {
          "output_type": "execute_result",
          "data": {
            "text/plain": [
              "array([0.        , 0.18      , 0.06781525, 0.        , 0.31481481,\n",
              "       0.57750527, 0.64160659, 0.26920314, 0.        , 0.20801527,\n",
              "       0.28723404, 1.        , 0.08967991])"
            ]
          },
          "metadata": {},
          "execution_count": 14
        }
      ]
    },
    {
      "cell_type": "code",
      "source": [
        "from sklearn.model_selection import train_test_split"
      ],
      "metadata": {
        "id": "c9dklH4ZU0wo"
      },
      "execution_count": null,
      "outputs": []
    },
    {
      "cell_type": "code",
      "source": [
        "X_train, X_test, y_train, y_test = train_test_split(X_data, y_data, test_size=0.2, shuffle=True)"
      ],
      "metadata": {
        "id": "aaNdATXoVHue"
      },
      "execution_count": null,
      "outputs": []
    },
    {
      "cell_type": "code",
      "source": [
        "X_train.shape, X_test.shape"
      ],
      "metadata": {
        "colab": {
          "base_uri": "https://localhost:8080/"
        },
        "id": "2KkQ4lTnVS3U",
        "outputId": "0c6e3321-65ba-4d9f-f48c-aecc2ed412da"
      },
      "execution_count": null,
      "outputs": [
        {
          "output_type": "execute_result",
          "data": {
            "text/plain": [
              "((404, 13), (102, 13))"
            ]
          },
          "metadata": {},
          "execution_count": 17
        }
      ]
    },
    {
      "cell_type": "code",
      "source": [
        "from tensorflow.keras import Sequential\n",
        "from tensorflow.keras.layers import Dense"
      ],
      "metadata": {
        "id": "r8AXRYwMVYyT"
      },
      "execution_count": null,
      "outputs": []
    },
    {
      "cell_type": "code",
      "source": [
        "model = Sequential([\n",
        "    Dense(256, input_dim=13, activation='relu'),\n",
        "    Dense(128, activation='relu'),\n",
        "    Dense(64, activation='relu'),\n",
        "    Dense(32, activation='relu'),\n",
        "    Dense(16, activation='relu'),\n",
        "    Dense(1, activation='linear')\n",
        "])"
      ],
      "metadata": {
        "id": "r444ju64VnIY"
      },
      "execution_count": null,
      "outputs": []
    },
    {
      "cell_type": "code",
      "source": [
        "model.summary()"
      ],
      "metadata": {
        "colab": {
          "base_uri": "https://localhost:8080/"
        },
        "id": "9yqqlSpYW4kK",
        "outputId": "d38d97d8-fdc3-464a-fad2-6ce77f8338e2"
      },
      "execution_count": null,
      "outputs": [
        {
          "output_type": "stream",
          "name": "stdout",
          "text": [
            "Model: \"sequential\"\n",
            "_________________________________________________________________\n",
            " Layer (type)                Output Shape              Param #   \n",
            "=================================================================\n",
            " dense (Dense)               (None, 256)               3584      \n",
            "                                                                 \n",
            " dense_1 (Dense)             (None, 128)               32896     \n",
            "                                                                 \n",
            " dense_2 (Dense)             (None, 64)                8256      \n",
            "                                                                 \n",
            " dense_3 (Dense)             (None, 32)                2080      \n",
            "                                                                 \n",
            " dense_4 (Dense)             (None, 16)                528       \n",
            "                                                                 \n",
            " dense_5 (Dense)             (None, 1)                 17        \n",
            "                                                                 \n",
            "=================================================================\n",
            "Total params: 47361 (185.00 KB)\n",
            "Trainable params: 47361 (185.00 KB)\n",
            "Non-trainable params: 0 (0.00 Byte)\n",
            "_________________________________________________________________\n"
          ]
        }
      ]
    },
    {
      "cell_type": "code",
      "source": [
        "model.compile(optimizer='adam', loss='mse', metrics=['mae'])"
      ],
      "metadata": {
        "id": "yEtIveCnW7Rc"
      },
      "execution_count": null,
      "outputs": []
    },
    {
      "cell_type": "code",
      "source": [
        "model.fit(X_train, y_train, epochs=200, batch_size=32)"
      ],
      "metadata": {
        "colab": {
          "base_uri": "https://localhost:8080/"
        },
        "id": "vS22DbsWXEAa",
        "outputId": "32f45bc8-c176-4952-c965-b56590f2cbb4"
      },
      "execution_count": null,
      "outputs": [
        {
          "output_type": "stream",
          "name": "stdout",
          "text": [
            "Epoch 1/200\n",
            "13/13 [==============================] - 2s 5ms/step - loss: 94.8740 - mae: 7.0301\n",
            "Epoch 2/200\n",
            "13/13 [==============================] - 0s 4ms/step - loss: 70.3574 - mae: 5.9838\n",
            "Epoch 3/200\n",
            "13/13 [==============================] - 0s 3ms/step - loss: 62.4849 - mae: 5.5717\n",
            "Epoch 4/200\n",
            "13/13 [==============================] - 0s 4ms/step - loss: 61.7398 - mae: 5.6111\n",
            "Epoch 5/200\n",
            "13/13 [==============================] - 0s 4ms/step - loss: 58.8838 - mae: 5.3628\n",
            "Epoch 6/200\n",
            "13/13 [==============================] - 0s 3ms/step - loss: 58.4777 - mae: 5.4683\n",
            "Epoch 7/200\n",
            "13/13 [==============================] - 0s 6ms/step - loss: 56.4642 - mae: 5.1803\n",
            "Epoch 8/200\n",
            "13/13 [==============================] - 0s 5ms/step - loss: 61.5681 - mae: 5.6553\n",
            "Epoch 9/200\n",
            "13/13 [==============================] - 0s 5ms/step - loss: 63.4670 - mae: 5.6613\n",
            "Epoch 10/200\n",
            "13/13 [==============================] - 0s 5ms/step - loss: 56.5817 - mae: 5.2271\n",
            "Epoch 11/200\n",
            "13/13 [==============================] - 0s 4ms/step - loss: 53.6459 - mae: 5.0306\n",
            "Epoch 12/200\n",
            "13/13 [==============================] - 0s 3ms/step - loss: 49.1750 - mae: 4.8967\n",
            "Epoch 13/200\n",
            "13/13 [==============================] - 0s 3ms/step - loss: 47.9572 - mae: 4.8218\n",
            "Epoch 14/200\n",
            "13/13 [==============================] - 0s 4ms/step - loss: 45.7319 - mae: 4.6391\n",
            "Epoch 15/200\n",
            "13/13 [==============================] - 0s 4ms/step - loss: 45.5946 - mae: 4.8146\n",
            "Epoch 16/200\n",
            "13/13 [==============================] - 0s 3ms/step - loss: 53.8702 - mae: 5.1603\n",
            "Epoch 17/200\n",
            "13/13 [==============================] - 0s 3ms/step - loss: 42.4795 - mae: 4.5697\n",
            "Epoch 18/200\n",
            "13/13 [==============================] - 0s 3ms/step - loss: 53.9237 - mae: 5.1694\n",
            "Epoch 19/200\n",
            "13/13 [==============================] - 0s 4ms/step - loss: 46.4255 - mae: 5.0506\n",
            "Epoch 20/200\n",
            "13/13 [==============================] - 0s 3ms/step - loss: 44.3032 - mae: 4.7884\n",
            "Epoch 21/200\n",
            "13/13 [==============================] - 0s 3ms/step - loss: 37.9893 - mae: 4.2054\n",
            "Epoch 22/200\n",
            "13/13 [==============================] - 0s 3ms/step - loss: 38.0364 - mae: 4.3947\n",
            "Epoch 23/200\n",
            "13/13 [==============================] - 0s 4ms/step - loss: 35.0918 - mae: 4.2104\n",
            "Epoch 24/200\n",
            "13/13 [==============================] - 0s 5ms/step - loss: 39.6711 - mae: 4.3603\n",
            "Epoch 25/200\n",
            "13/13 [==============================] - 0s 5ms/step - loss: 36.6666 - mae: 4.3671\n",
            "Epoch 26/200\n",
            "13/13 [==============================] - 0s 4ms/step - loss: 44.5927 - mae: 4.7763\n",
            "Epoch 27/200\n",
            "13/13 [==============================] - 0s 5ms/step - loss: 32.6693 - mae: 4.1257\n",
            "Epoch 28/200\n",
            "13/13 [==============================] - 0s 4ms/step - loss: 32.7401 - mae: 3.9947\n",
            "Epoch 29/200\n",
            "13/13 [==============================] - 0s 4ms/step - loss: 32.0920 - mae: 4.1242\n",
            "Epoch 30/200\n",
            "13/13 [==============================] - 0s 3ms/step - loss: 33.8029 - mae: 4.2436\n",
            "Epoch 31/200\n",
            "13/13 [==============================] - 0s 4ms/step - loss: 32.6433 - mae: 4.0721\n",
            "Epoch 32/200\n",
            "13/13 [==============================] - 0s 3ms/step - loss: 33.1902 - mae: 4.1794\n",
            "Epoch 33/200\n",
            "13/13 [==============================] - 0s 4ms/step - loss: 27.5619 - mae: 3.8277\n",
            "Epoch 34/200\n",
            "13/13 [==============================] - 0s 3ms/step - loss: 25.3607 - mae: 3.6318\n",
            "Epoch 35/200\n",
            "13/13 [==============================] - 0s 3ms/step - loss: 25.0862 - mae: 3.6010\n",
            "Epoch 36/200\n",
            "13/13 [==============================] - 0s 3ms/step - loss: 24.0145 - mae: 3.5427\n",
            "Epoch 37/200\n",
            "13/13 [==============================] - 0s 3ms/step - loss: 22.8843 - mae: 3.5395\n",
            "Epoch 38/200\n",
            "13/13 [==============================] - 0s 3ms/step - loss: 27.0357 - mae: 3.7983\n",
            "Epoch 39/200\n",
            "13/13 [==============================] - 0s 3ms/step - loss: 31.4359 - mae: 3.9041\n",
            "Epoch 40/200\n",
            "13/13 [==============================] - 0s 3ms/step - loss: 21.1315 - mae: 3.4954\n",
            "Epoch 41/200\n",
            "13/13 [==============================] - 0s 4ms/step - loss: 22.3607 - mae: 3.4196\n",
            "Epoch 42/200\n",
            "13/13 [==============================] - 0s 4ms/step - loss: 18.9966 - mae: 3.1978\n",
            "Epoch 43/200\n",
            "13/13 [==============================] - 0s 6ms/step - loss: 21.1464 - mae: 3.3129\n",
            "Epoch 44/200\n",
            "13/13 [==============================] - 0s 4ms/step - loss: 23.8036 - mae: 3.5989\n",
            "Epoch 45/200\n",
            "13/13 [==============================] - 0s 5ms/step - loss: 18.7726 - mae: 3.2079\n",
            "Epoch 46/200\n",
            "13/13 [==============================] - 0s 4ms/step - loss: 17.1993 - mae: 3.0813\n",
            "Epoch 47/200\n",
            "13/13 [==============================] - 0s 4ms/step - loss: 18.3045 - mae: 3.1283\n",
            "Epoch 48/200\n",
            "13/13 [==============================] - 0s 4ms/step - loss: 18.1306 - mae: 3.0774\n",
            "Epoch 49/200\n",
            "13/13 [==============================] - 0s 3ms/step - loss: 19.7513 - mae: 3.2074\n",
            "Epoch 50/200\n",
            "13/13 [==============================] - 0s 3ms/step - loss: 19.9591 - mae: 3.2660\n",
            "Epoch 51/200\n",
            "13/13 [==============================] - 0s 4ms/step - loss: 19.2094 - mae: 3.1390\n",
            "Epoch 52/200\n",
            "13/13 [==============================] - 0s 4ms/step - loss: 17.9203 - mae: 3.1755\n",
            "Epoch 53/200\n",
            "13/13 [==============================] - 0s 4ms/step - loss: 24.6287 - mae: 3.5449\n",
            "Epoch 54/200\n",
            "13/13 [==============================] - 0s 4ms/step - loss: 22.1723 - mae: 3.4335\n",
            "Epoch 55/200\n",
            "13/13 [==============================] - 0s 4ms/step - loss: 17.4405 - mae: 3.0061\n",
            "Epoch 56/200\n",
            "13/13 [==============================] - 0s 3ms/step - loss: 19.2385 - mae: 3.1590\n",
            "Epoch 57/200\n",
            "13/13 [==============================] - 0s 6ms/step - loss: 18.3586 - mae: 3.0850\n",
            "Epoch 58/200\n",
            "13/13 [==============================] - 0s 6ms/step - loss: 17.1541 - mae: 3.0176\n",
            "Epoch 59/200\n",
            "13/13 [==============================] - 0s 6ms/step - loss: 18.6883 - mae: 3.1075\n",
            "Epoch 60/200\n",
            "13/13 [==============================] - 0s 6ms/step - loss: 15.3076 - mae: 2.8707\n",
            "Epoch 61/200\n",
            "13/13 [==============================] - 0s 5ms/step - loss: 16.0852 - mae: 2.9138\n",
            "Epoch 62/200\n",
            "13/13 [==============================] - 0s 3ms/step - loss: 18.1760 - mae: 3.1282\n",
            "Epoch 63/200\n",
            "13/13 [==============================] - 0s 3ms/step - loss: 18.8941 - mae: 3.1171\n",
            "Epoch 64/200\n",
            "13/13 [==============================] - 0s 4ms/step - loss: 17.1321 - mae: 3.0427\n",
            "Epoch 65/200\n",
            "13/13 [==============================] - 0s 3ms/step - loss: 17.8910 - mae: 3.1499\n",
            "Epoch 66/200\n",
            "13/13 [==============================] - 0s 4ms/step - loss: 16.5254 - mae: 2.9237\n",
            "Epoch 67/200\n",
            "13/13 [==============================] - 0s 3ms/step - loss: 15.1582 - mae: 2.9260\n",
            "Epoch 68/200\n",
            "13/13 [==============================] - 0s 4ms/step - loss: 15.4121 - mae: 2.8078\n",
            "Epoch 69/200\n",
            "13/13 [==============================] - 0s 3ms/step - loss: 16.6700 - mae: 2.9017\n",
            "Epoch 70/200\n",
            "13/13 [==============================] - 0s 3ms/step - loss: 15.8333 - mae: 2.8408\n",
            "Epoch 71/200\n",
            "13/13 [==============================] - 0s 3ms/step - loss: 15.8843 - mae: 2.8313\n",
            "Epoch 72/200\n",
            "13/13 [==============================] - 0s 4ms/step - loss: 13.7749 - mae: 2.6958\n",
            "Epoch 73/200\n",
            "13/13 [==============================] - 0s 5ms/step - loss: 16.2382 - mae: 2.8012\n",
            "Epoch 74/200\n",
            "13/13 [==============================] - 0s 4ms/step - loss: 17.5707 - mae: 3.0425\n",
            "Epoch 75/200\n",
            "13/13 [==============================] - 0s 6ms/step - loss: 18.0609 - mae: 3.0457\n",
            "Epoch 76/200\n",
            "13/13 [==============================] - 0s 5ms/step - loss: 15.5949 - mae: 2.8239\n",
            "Epoch 77/200\n",
            "13/13 [==============================] - 0s 5ms/step - loss: 20.5746 - mae: 3.3940\n",
            "Epoch 78/200\n",
            "13/13 [==============================] - 0s 4ms/step - loss: 17.0658 - mae: 3.0203\n",
            "Epoch 79/200\n",
            "13/13 [==============================] - 0s 4ms/step - loss: 14.6101 - mae: 2.7515\n",
            "Epoch 80/200\n",
            "13/13 [==============================] - 0s 4ms/step - loss: 15.9085 - mae: 2.9769\n",
            "Epoch 81/200\n",
            "13/13 [==============================] - 0s 3ms/step - loss: 15.5009 - mae: 2.8418\n",
            "Epoch 82/200\n",
            "13/13 [==============================] - 0s 3ms/step - loss: 15.3962 - mae: 2.8284\n",
            "Epoch 83/200\n",
            "13/13 [==============================] - 0s 4ms/step - loss: 17.6925 - mae: 2.9828\n",
            "Epoch 84/200\n",
            "13/13 [==============================] - 0s 3ms/step - loss: 15.8606 - mae: 2.8531\n",
            "Epoch 85/200\n",
            "13/13 [==============================] - 0s 3ms/step - loss: 15.2420 - mae: 2.8566\n",
            "Epoch 86/200\n",
            "13/13 [==============================] - 0s 3ms/step - loss: 24.0228 - mae: 3.3903\n",
            "Epoch 87/200\n",
            "13/13 [==============================] - 0s 4ms/step - loss: 24.7659 - mae: 3.7119\n",
            "Epoch 88/200\n",
            "13/13 [==============================] - 0s 4ms/step - loss: 26.1560 - mae: 3.7355\n",
            "Epoch 89/200\n",
            "13/13 [==============================] - 0s 4ms/step - loss: 15.1465 - mae: 2.8865\n",
            "Epoch 90/200\n",
            "13/13 [==============================] - 0s 6ms/step - loss: 17.3382 - mae: 3.0397\n",
            "Epoch 91/200\n",
            "13/13 [==============================] - 0s 4ms/step - loss: 21.6190 - mae: 3.3954\n",
            "Epoch 92/200\n",
            "13/13 [==============================] - 0s 4ms/step - loss: 15.7770 - mae: 2.9001\n",
            "Epoch 93/200\n",
            "13/13 [==============================] - 0s 4ms/step - loss: 20.0619 - mae: 3.3336\n",
            "Epoch 94/200\n",
            "13/13 [==============================] - 0s 4ms/step - loss: 14.6543 - mae: 2.7988\n",
            "Epoch 95/200\n",
            "13/13 [==============================] - 0s 3ms/step - loss: 15.1352 - mae: 2.7625\n",
            "Epoch 96/200\n",
            "13/13 [==============================] - 0s 3ms/step - loss: 16.8813 - mae: 2.9597\n",
            "Epoch 97/200\n",
            "13/13 [==============================] - 0s 4ms/step - loss: 15.6409 - mae: 2.9000\n",
            "Epoch 98/200\n",
            "13/13 [==============================] - 0s 4ms/step - loss: 15.7477 - mae: 2.9351\n",
            "Epoch 99/200\n",
            "13/13 [==============================] - 0s 3ms/step - loss: 14.3132 - mae: 2.7555\n",
            "Epoch 100/200\n",
            "13/13 [==============================] - 0s 4ms/step - loss: 12.8795 - mae: 2.6114\n",
            "Epoch 101/200\n",
            "13/13 [==============================] - 0s 3ms/step - loss: 12.9289 - mae: 2.6400\n",
            "Epoch 102/200\n",
            "13/13 [==============================] - 0s 3ms/step - loss: 13.5205 - mae: 2.6190\n",
            "Epoch 103/200\n",
            "13/13 [==============================] - 0s 4ms/step - loss: 13.5629 - mae: 2.6358\n",
            "Epoch 104/200\n",
            "13/13 [==============================] - 0s 3ms/step - loss: 14.3684 - mae: 2.6465\n",
            "Epoch 105/200\n",
            "13/13 [==============================] - 0s 5ms/step - loss: 12.2574 - mae: 2.5285\n",
            "Epoch 106/200\n",
            "13/13 [==============================] - 0s 6ms/step - loss: 13.1655 - mae: 2.6417\n",
            "Epoch 107/200\n",
            "13/13 [==============================] - 0s 5ms/step - loss: 20.3837 - mae: 3.2977\n",
            "Epoch 108/200\n",
            "13/13 [==============================] - 0s 5ms/step - loss: 15.4376 - mae: 2.8555\n",
            "Epoch 109/200\n",
            "13/13 [==============================] - 0s 5ms/step - loss: 16.1302 - mae: 2.8340\n",
            "Epoch 110/200\n",
            "13/13 [==============================] - 0s 6ms/step - loss: 15.7204 - mae: 2.9128\n",
            "Epoch 111/200\n",
            "13/13 [==============================] - 0s 4ms/step - loss: 18.7953 - mae: 3.1208\n",
            "Epoch 112/200\n",
            "13/13 [==============================] - 0s 4ms/step - loss: 13.4899 - mae: 2.6967\n",
            "Epoch 113/200\n",
            "13/13 [==============================] - 0s 4ms/step - loss: 12.1730 - mae: 2.5185\n",
            "Epoch 114/200\n",
            "13/13 [==============================] - 0s 4ms/step - loss: 12.3959 - mae: 2.4947\n",
            "Epoch 115/200\n",
            "13/13 [==============================] - 0s 4ms/step - loss: 12.4457 - mae: 2.6560\n",
            "Epoch 116/200\n",
            "13/13 [==============================] - 0s 3ms/step - loss: 17.2713 - mae: 2.9412\n",
            "Epoch 117/200\n",
            "13/13 [==============================] - 0s 3ms/step - loss: 12.4057 - mae: 2.5896\n",
            "Epoch 118/200\n",
            "13/13 [==============================] - 0s 4ms/step - loss: 13.9309 - mae: 2.6085\n",
            "Epoch 119/200\n",
            "13/13 [==============================] - 0s 3ms/step - loss: 12.7739 - mae: 2.5654\n",
            "Epoch 120/200\n",
            "13/13 [==============================] - 0s 4ms/step - loss: 12.7533 - mae: 2.6036\n",
            "Epoch 121/200\n",
            "13/13 [==============================] - 0s 6ms/step - loss: 14.7966 - mae: 2.7672\n",
            "Epoch 122/200\n",
            "13/13 [==============================] - 0s 6ms/step - loss: 15.2319 - mae: 2.8461\n",
            "Epoch 123/200\n",
            "13/13 [==============================] - 0s 5ms/step - loss: 13.9647 - mae: 2.6926\n",
            "Epoch 124/200\n",
            "13/13 [==============================] - 0s 4ms/step - loss: 14.5558 - mae: 2.7317\n",
            "Epoch 125/200\n",
            "13/13 [==============================] - 0s 6ms/step - loss: 12.2282 - mae: 2.5947\n",
            "Epoch 126/200\n",
            "13/13 [==============================] - 0s 7ms/step - loss: 12.3182 - mae: 2.4765\n",
            "Epoch 127/200\n",
            "13/13 [==============================] - 0s 7ms/step - loss: 11.8774 - mae: 2.4815\n",
            "Epoch 128/200\n",
            "13/13 [==============================] - 0s 6ms/step - loss: 12.1165 - mae: 2.4851\n",
            "Epoch 129/200\n",
            "13/13 [==============================] - 0s 7ms/step - loss: 12.3627 - mae: 2.5727\n",
            "Epoch 130/200\n",
            "13/13 [==============================] - 0s 6ms/step - loss: 14.1058 - mae: 2.6824\n",
            "Epoch 131/200\n",
            "13/13 [==============================] - 0s 7ms/step - loss: 16.7326 - mae: 2.8905\n",
            "Epoch 132/200\n",
            "13/13 [==============================] - 0s 8ms/step - loss: 14.5416 - mae: 2.7571\n",
            "Epoch 133/200\n",
            "13/13 [==============================] - 0s 9ms/step - loss: 11.6526 - mae: 2.4511\n",
            "Epoch 134/200\n",
            "13/13 [==============================] - 0s 8ms/step - loss: 11.3925 - mae: 2.3996\n",
            "Epoch 135/200\n",
            "13/13 [==============================] - 0s 6ms/step - loss: 16.6133 - mae: 2.8997\n",
            "Epoch 136/200\n",
            "13/13 [==============================] - 0s 8ms/step - loss: 13.3843 - mae: 2.5917\n",
            "Epoch 137/200\n",
            "13/13 [==============================] - 0s 7ms/step - loss: 13.8363 - mae: 2.7381\n",
            "Epoch 138/200\n",
            "13/13 [==============================] - 0s 7ms/step - loss: 13.2082 - mae: 2.5891\n",
            "Epoch 139/200\n",
            "13/13 [==============================] - 0s 6ms/step - loss: 14.8617 - mae: 2.7394\n",
            "Epoch 140/200\n",
            "13/13 [==============================] - 0s 7ms/step - loss: 14.8396 - mae: 2.7569\n",
            "Epoch 141/200\n",
            "13/13 [==============================] - 0s 8ms/step - loss: 13.1572 - mae: 2.6619\n",
            "Epoch 142/200\n",
            "13/13 [==============================] - 0s 9ms/step - loss: 13.4351 - mae: 2.7071\n",
            "Epoch 143/200\n",
            "13/13 [==============================] - 0s 8ms/step - loss: 12.0559 - mae: 2.5228\n",
            "Epoch 144/200\n",
            "13/13 [==============================] - 0s 7ms/step - loss: 11.3957 - mae: 2.4811\n",
            "Epoch 145/200\n",
            "13/13 [==============================] - 0s 6ms/step - loss: 10.4367 - mae: 2.3635\n",
            "Epoch 146/200\n",
            "13/13 [==============================] - 0s 8ms/step - loss: 11.1158 - mae: 2.3939\n",
            "Epoch 147/200\n",
            "13/13 [==============================] - 0s 7ms/step - loss: 10.7846 - mae: 2.3625\n",
            "Epoch 148/200\n",
            "13/13 [==============================] - 0s 6ms/step - loss: 12.2703 - mae: 2.5641\n",
            "Epoch 149/200\n",
            "13/13 [==============================] - 0s 6ms/step - loss: 10.2602 - mae: 2.3290\n",
            "Epoch 150/200\n",
            "13/13 [==============================] - 0s 6ms/step - loss: 11.3806 - mae: 2.5207\n",
            "Epoch 151/200\n",
            "13/13 [==============================] - 0s 7ms/step - loss: 13.8802 - mae: 2.6747\n",
            "Epoch 152/200\n",
            "13/13 [==============================] - 0s 6ms/step - loss: 17.9514 - mae: 3.0211\n",
            "Epoch 153/200\n",
            "13/13 [==============================] - 0s 7ms/step - loss: 12.1353 - mae: 2.6000\n",
            "Epoch 154/200\n",
            "13/13 [==============================] - 0s 7ms/step - loss: 11.0247 - mae: 2.4011\n",
            "Epoch 155/200\n",
            "13/13 [==============================] - 0s 7ms/step - loss: 14.2108 - mae: 2.5694\n",
            "Epoch 156/200\n",
            "13/13 [==============================] - 0s 7ms/step - loss: 12.6613 - mae: 2.5682\n",
            "Epoch 157/200\n",
            "13/13 [==============================] - 0s 7ms/step - loss: 11.1638 - mae: 2.3587\n",
            "Epoch 158/200\n",
            "13/13 [==============================] - 0s 7ms/step - loss: 10.5546 - mae: 2.3388\n",
            "Epoch 159/200\n",
            "13/13 [==============================] - 0s 5ms/step - loss: 13.9527 - mae: 2.6896\n",
            "Epoch 160/200\n",
            "13/13 [==============================] - 0s 6ms/step - loss: 13.1684 - mae: 2.6306\n",
            "Epoch 161/200\n",
            "13/13 [==============================] - 0s 6ms/step - loss: 11.9301 - mae: 2.4293\n",
            "Epoch 162/200\n",
            "13/13 [==============================] - 0s 7ms/step - loss: 12.9585 - mae: 2.6004\n",
            "Epoch 163/200\n",
            "13/13 [==============================] - 0s 9ms/step - loss: 13.0794 - mae: 2.6812\n",
            "Epoch 164/200\n",
            "13/13 [==============================] - 0s 7ms/step - loss: 11.5699 - mae: 2.4754\n",
            "Epoch 165/200\n",
            "13/13 [==============================] - 0s 6ms/step - loss: 11.3190 - mae: 2.3680\n",
            "Epoch 166/200\n",
            "13/13 [==============================] - 0s 6ms/step - loss: 11.3191 - mae: 2.3217\n",
            "Epoch 167/200\n",
            "13/13 [==============================] - 0s 6ms/step - loss: 10.5597 - mae: 2.3988\n",
            "Epoch 168/200\n",
            "13/13 [==============================] - 0s 5ms/step - loss: 10.7156 - mae: 2.3604\n",
            "Epoch 169/200\n",
            "13/13 [==============================] - 0s 4ms/step - loss: 11.7956 - mae: 2.4291\n",
            "Epoch 170/200\n",
            "13/13 [==============================] - 0s 4ms/step - loss: 10.8190 - mae: 2.3665\n",
            "Epoch 171/200\n",
            "13/13 [==============================] - 0s 3ms/step - loss: 9.9137 - mae: 2.2508\n",
            "Epoch 172/200\n",
            "13/13 [==============================] - 0s 3ms/step - loss: 12.9899 - mae: 2.5117\n",
            "Epoch 173/200\n",
            "13/13 [==============================] - 0s 4ms/step - loss: 12.3872 - mae: 2.5315\n",
            "Epoch 174/200\n",
            "13/13 [==============================] - 0s 8ms/step - loss: 12.6573 - mae: 2.5419\n",
            "Epoch 175/200\n",
            "13/13 [==============================] - 0s 5ms/step - loss: 12.5943 - mae: 2.4723\n",
            "Epoch 176/200\n",
            "13/13 [==============================] - 0s 4ms/step - loss: 13.8355 - mae: 2.7070\n",
            "Epoch 177/200\n",
            "13/13 [==============================] - 0s 4ms/step - loss: 13.3043 - mae: 2.5799\n",
            "Epoch 178/200\n",
            "13/13 [==============================] - 0s 4ms/step - loss: 11.4590 - mae: 2.4349\n",
            "Epoch 179/200\n",
            "13/13 [==============================] - 0s 3ms/step - loss: 17.4449 - mae: 3.0969\n",
            "Epoch 180/200\n",
            "13/13 [==============================] - 0s 3ms/step - loss: 15.6993 - mae: 2.7487\n",
            "Epoch 181/200\n",
            "13/13 [==============================] - 0s 4ms/step - loss: 10.9459 - mae: 2.4000\n",
            "Epoch 182/200\n",
            "13/13 [==============================] - 0s 3ms/step - loss: 11.4801 - mae: 2.4026\n",
            "Epoch 183/200\n",
            "13/13 [==============================] - 0s 4ms/step - loss: 11.6390 - mae: 2.4902\n",
            "Epoch 184/200\n",
            "13/13 [==============================] - 0s 4ms/step - loss: 11.0261 - mae: 2.2979\n",
            "Epoch 185/200\n",
            "13/13 [==============================] - 0s 3ms/step - loss: 11.7154 - mae: 2.5170\n",
            "Epoch 186/200\n",
            "13/13 [==============================] - 0s 3ms/step - loss: 14.2091 - mae: 2.7269\n",
            "Epoch 187/200\n",
            "13/13 [==============================] - 0s 4ms/step - loss: 15.5479 - mae: 2.9434\n",
            "Epoch 188/200\n",
            "13/13 [==============================] - 0s 3ms/step - loss: 13.1802 - mae: 2.5337\n",
            "Epoch 189/200\n",
            "13/13 [==============================] - 0s 3ms/step - loss: 15.2896 - mae: 2.8958\n",
            "Epoch 190/200\n",
            "13/13 [==============================] - 0s 4ms/step - loss: 19.0488 - mae: 3.1604\n",
            "Epoch 191/200\n",
            "13/13 [==============================] - 0s 4ms/step - loss: 13.9911 - mae: 2.6819\n",
            "Epoch 192/200\n",
            "13/13 [==============================] - 0s 6ms/step - loss: 10.4102 - mae: 2.3123\n",
            "Epoch 193/200\n",
            "13/13 [==============================] - 0s 5ms/step - loss: 11.3208 - mae: 2.4912\n",
            "Epoch 194/200\n",
            "13/13 [==============================] - 0s 5ms/step - loss: 9.9439 - mae: 2.2614\n",
            "Epoch 195/200\n",
            "13/13 [==============================] - 0s 5ms/step - loss: 11.3333 - mae: 2.3498\n",
            "Epoch 196/200\n",
            "13/13 [==============================] - 0s 4ms/step - loss: 10.2164 - mae: 2.3255\n",
            "Epoch 197/200\n",
            "13/13 [==============================] - 0s 5ms/step - loss: 13.4180 - mae: 2.6076\n",
            "Epoch 198/200\n",
            "13/13 [==============================] - 0s 5ms/step - loss: 12.3464 - mae: 2.5898\n",
            "Epoch 199/200\n",
            "13/13 [==============================] - 0s 4ms/step - loss: 12.8940 - mae: 2.6386\n",
            "Epoch 200/200\n",
            "13/13 [==============================] - 0s 5ms/step - loss: 13.4819 - mae: 2.5847\n"
          ]
        },
        {
          "output_type": "execute_result",
          "data": {
            "text/plain": [
              "<keras.src.callbacks.History at 0x7f9ccce9d420>"
            ]
          },
          "metadata": {},
          "execution_count": 22
        }
      ]
    },
    {
      "cell_type": "code",
      "source": [
        "model.evaluate(X_test, y_test)"
      ],
      "metadata": {
        "colab": {
          "base_uri": "https://localhost:8080/"
        },
        "id": "7GPiH2YdXR8L",
        "outputId": "c9db4f6a-19c7-499b-a25f-c9efeae3bde3"
      },
      "execution_count": null,
      "outputs": [
        {
          "output_type": "stream",
          "name": "stdout",
          "text": [
            "4/4 [==============================] - 0s 7ms/step - loss: 17.3295 - mae: 2.9957\n"
          ]
        },
        {
          "output_type": "execute_result",
          "data": {
            "text/plain": [
              "[17.329511642456055, 2.9957172870635986]"
            ]
          },
          "metadata": {},
          "execution_count": 23
        }
      ]
    },
    {
      "cell_type": "code",
      "source": [
        "model.predict(X_test[0])"
      ],
      "metadata": {
        "colab": {
          "base_uri": "https://localhost:8080/",
          "height": 850
        },
        "id": "W8x-ABh7Xbxm",
        "outputId": "738c13b0-e3c9-47f7-941f-468f79565460"
      },
      "execution_count": null,
      "outputs": [
        {
          "output_type": "error",
          "ename": "ValueError",
          "evalue": "in user code:\n\n    File \"/usr/local/lib/python3.10/dist-packages/keras/src/engine/training.py\", line 2440, in predict_function  *\n        return step_function(self, iterator)\n    File \"/usr/local/lib/python3.10/dist-packages/keras/src/engine/training.py\", line 2425, in step_function  **\n        outputs = model.distribute_strategy.run(run_step, args=(data,))\n    File \"/usr/local/lib/python3.10/dist-packages/keras/src/engine/training.py\", line 2413, in run_step  **\n        outputs = model.predict_step(data)\n    File \"/usr/local/lib/python3.10/dist-packages/keras/src/engine/training.py\", line 2381, in predict_step\n        return self(x, training=False)\n    File \"/usr/local/lib/python3.10/dist-packages/keras/src/utils/traceback_utils.py\", line 70, in error_handler\n        raise e.with_traceback(filtered_tb) from None\n    File \"/usr/local/lib/python3.10/dist-packages/keras/src/engine/input_spec.py\", line 253, in assert_input_compatibility\n        raise ValueError(\n\n    ValueError: Exception encountered when calling layer 'sequential' (type Sequential).\n    \n    Input 0 of layer \"dense\" is incompatible with the layer: expected min_ndim=2, found ndim=1. Full shape received: (None,)\n    \n    Call arguments received by layer 'sequential' (type Sequential):\n      • inputs=('tf.Tensor(shape=(None,), dtype=float32)',)\n      • training=False\n      • mask=None\n",
          "traceback": [
            "\u001b[0;31m---------------------------------------------------------------------------\u001b[0m",
            "\u001b[0;31mValueError\u001b[0m                                Traceback (most recent call last)",
            "\u001b[0;32m<ipython-input-26-5d6e2c3bdfee>\u001b[0m in \u001b[0;36m<cell line: 1>\u001b[0;34m()\u001b[0m\n\u001b[0;32m----> 1\u001b[0;31m \u001b[0mmodel\u001b[0m\u001b[0;34m.\u001b[0m\u001b[0mpredict\u001b[0m\u001b[0;34m(\u001b[0m\u001b[0;34m[\u001b[0m\u001b[0mX_test\u001b[0m\u001b[0;34m[\u001b[0m\u001b[0;36m0\u001b[0m\u001b[0;34m]\u001b[0m\u001b[0;34m]\u001b[0m\u001b[0;34m)\u001b[0m\u001b[0;34m\u001b[0m\u001b[0;34m\u001b[0m\u001b[0m\n\u001b[0m",
            "\u001b[0;32m/usr/local/lib/python3.10/dist-packages/keras/src/utils/traceback_utils.py\u001b[0m in \u001b[0;36merror_handler\u001b[0;34m(*args, **kwargs)\u001b[0m\n\u001b[1;32m     68\u001b[0m             \u001b[0;31m# To get the full stack trace, call:\u001b[0m\u001b[0;34m\u001b[0m\u001b[0;34m\u001b[0m\u001b[0m\n\u001b[1;32m     69\u001b[0m             \u001b[0;31m# `tf.debugging.disable_traceback_filtering()`\u001b[0m\u001b[0;34m\u001b[0m\u001b[0;34m\u001b[0m\u001b[0m\n\u001b[0;32m---> 70\u001b[0;31m             \u001b[0;32mraise\u001b[0m \u001b[0me\u001b[0m\u001b[0;34m.\u001b[0m\u001b[0mwith_traceback\u001b[0m\u001b[0;34m(\u001b[0m\u001b[0mfiltered_tb\u001b[0m\u001b[0;34m)\u001b[0m \u001b[0;32mfrom\u001b[0m \u001b[0;32mNone\u001b[0m\u001b[0;34m\u001b[0m\u001b[0;34m\u001b[0m\u001b[0m\n\u001b[0m\u001b[1;32m     71\u001b[0m         \u001b[0;32mfinally\u001b[0m\u001b[0;34m:\u001b[0m\u001b[0;34m\u001b[0m\u001b[0;34m\u001b[0m\u001b[0m\n\u001b[1;32m     72\u001b[0m             \u001b[0;32mdel\u001b[0m \u001b[0mfiltered_tb\u001b[0m\u001b[0;34m\u001b[0m\u001b[0;34m\u001b[0m\u001b[0m\n",
            "\u001b[0;32m/usr/local/lib/python3.10/dist-packages/keras/src/engine/training.py\u001b[0m in \u001b[0;36mtf__predict_function\u001b[0;34m(iterator)\u001b[0m\n\u001b[1;32m     13\u001b[0m                 \u001b[0;32mtry\u001b[0m\u001b[0;34m:\u001b[0m\u001b[0;34m\u001b[0m\u001b[0;34m\u001b[0m\u001b[0m\n\u001b[1;32m     14\u001b[0m                     \u001b[0mdo_return\u001b[0m \u001b[0;34m=\u001b[0m \u001b[0;32mTrue\u001b[0m\u001b[0;34m\u001b[0m\u001b[0;34m\u001b[0m\u001b[0m\n\u001b[0;32m---> 15\u001b[0;31m                     \u001b[0mretval_\u001b[0m \u001b[0;34m=\u001b[0m \u001b[0mag__\u001b[0m\u001b[0;34m.\u001b[0m\u001b[0mconverted_call\u001b[0m\u001b[0;34m(\u001b[0m\u001b[0mag__\u001b[0m\u001b[0;34m.\u001b[0m\u001b[0mld\u001b[0m\u001b[0;34m(\u001b[0m\u001b[0mstep_function\u001b[0m\u001b[0;34m)\u001b[0m\u001b[0;34m,\u001b[0m \u001b[0;34m(\u001b[0m\u001b[0mag__\u001b[0m\u001b[0;34m.\u001b[0m\u001b[0mld\u001b[0m\u001b[0;34m(\u001b[0m\u001b[0mself\u001b[0m\u001b[0;34m)\u001b[0m\u001b[0;34m,\u001b[0m \u001b[0mag__\u001b[0m\u001b[0;34m.\u001b[0m\u001b[0mld\u001b[0m\u001b[0;34m(\u001b[0m\u001b[0miterator\u001b[0m\u001b[0;34m)\u001b[0m\u001b[0;34m)\u001b[0m\u001b[0;34m,\u001b[0m \u001b[0;32mNone\u001b[0m\u001b[0;34m,\u001b[0m \u001b[0mfscope\u001b[0m\u001b[0;34m)\u001b[0m\u001b[0;34m\u001b[0m\u001b[0;34m\u001b[0m\u001b[0m\n\u001b[0m\u001b[1;32m     16\u001b[0m                 \u001b[0;32mexcept\u001b[0m\u001b[0;34m:\u001b[0m\u001b[0;34m\u001b[0m\u001b[0;34m\u001b[0m\u001b[0m\n\u001b[1;32m     17\u001b[0m                     \u001b[0mdo_return\u001b[0m \u001b[0;34m=\u001b[0m \u001b[0;32mFalse\u001b[0m\u001b[0;34m\u001b[0m\u001b[0;34m\u001b[0m\u001b[0m\n",
            "\u001b[0;31mValueError\u001b[0m: in user code:\n\n    File \"/usr/local/lib/python3.10/dist-packages/keras/src/engine/training.py\", line 2440, in predict_function  *\n        return step_function(self, iterator)\n    File \"/usr/local/lib/python3.10/dist-packages/keras/src/engine/training.py\", line 2425, in step_function  **\n        outputs = model.distribute_strategy.run(run_step, args=(data,))\n    File \"/usr/local/lib/python3.10/dist-packages/keras/src/engine/training.py\", line 2413, in run_step  **\n        outputs = model.predict_step(data)\n    File \"/usr/local/lib/python3.10/dist-packages/keras/src/engine/training.py\", line 2381, in predict_step\n        return self(x, training=False)\n    File \"/usr/local/lib/python3.10/dist-packages/keras/src/utils/traceback_utils.py\", line 70, in error_handler\n        raise e.with_traceback(filtered_tb) from None\n    File \"/usr/local/lib/python3.10/dist-packages/keras/src/engine/input_spec.py\", line 253, in assert_input_compatibility\n        raise ValueError(\n\n    ValueError: Exception encountered when calling layer 'sequential' (type Sequential).\n    \n    Input 0 of layer \"dense\" is incompatible with the layer: expected min_ndim=2, found ndim=1. Full shape received: (None,)\n    \n    Call arguments received by layer 'sequential' (type Sequential):\n      • inputs=('tf.Tensor(shape=(None,), dtype=float32)',)\n      • training=False\n      • mask=None\n"
          ]
        }
      ]
    },
    {
      "cell_type": "code",
      "source": [
        "X_test[0].shape"
      ],
      "metadata": {
        "colab": {
          "base_uri": "https://localhost:8080/"
        },
        "id": "CI33B5JkXo7Z",
        "outputId": "bc5fda0d-a292-49ee-9e58-c1598b3d0181"
      },
      "execution_count": null,
      "outputs": [
        {
          "output_type": "execute_result",
          "data": {
            "text/plain": [
              "(13,)"
            ]
          },
          "metadata": {},
          "execution_count": 25
        }
      ]
    },
    {
      "cell_type": "code",
      "source": [
        "x_0 = np.array(X_test[0]).reshape(-1, 13)"
      ],
      "metadata": {
        "id": "A91jqgUzX1Ah"
      },
      "execution_count": null,
      "outputs": []
    },
    {
      "cell_type": "code",
      "source": [
        "x_0.shape"
      ],
      "metadata": {
        "colab": {
          "base_uri": "https://localhost:8080/"
        },
        "id": "s-UBz437YFqS",
        "outputId": "32400600-690c-4647-e28a-86bf1b413ed4"
      },
      "execution_count": null,
      "outputs": [
        {
          "output_type": "execute_result",
          "data": {
            "text/plain": [
              "(1, 13)"
            ]
          },
          "metadata": {},
          "execution_count": 30
        }
      ]
    },
    {
      "cell_type": "code",
      "source": [
        "model.predict(x_0)"
      ],
      "metadata": {
        "colab": {
          "base_uri": "https://localhost:8080/"
        },
        "id": "kB0OL-ptYUv5",
        "outputId": "e192728b-00da-43a7-a876-30e77a0286af"
      },
      "execution_count": null,
      "outputs": [
        {
          "output_type": "stream",
          "name": "stdout",
          "text": [
            "1/1 [==============================] - 0s 141ms/step\n"
          ]
        },
        {
          "output_type": "execute_result",
          "data": {
            "text/plain": [
              "array([[9.557468]], dtype=float32)"
            ]
          },
          "metadata": {},
          "execution_count": 31
        }
      ]
    },
    {
      "cell_type": "code",
      "source": [
        "y_test[0]"
      ],
      "metadata": {
        "id": "Ib-jDrJGYbB9",
        "outputId": "b99737d3-29da-4069-8287-62ac0b3fbf44",
        "colab": {
          "base_uri": "https://localhost:8080/"
        }
      },
      "execution_count": null,
      "outputs": [
        {
          "output_type": "execute_result",
          "data": {
            "text/plain": [
              "11.9"
            ]
          },
          "metadata": {},
          "execution_count": 32
        }
      ]
    },
    {
      "cell_type": "code",
      "source": [],
      "metadata": {
        "id": "wldUA00kYfTS"
      },
      "execution_count": null,
      "outputs": []
    }
  ]
}